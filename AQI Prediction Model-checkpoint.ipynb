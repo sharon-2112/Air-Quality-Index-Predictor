{
 "cells": [
  {
   "cell_type": "markdown",
   "id": "e759c6d4-501c-4b48-8832-daf2c2c895ec",
   "metadata": {},
   "source": [
    "# AQI Prediction Model using Python"
   ]
  },
  {
   "cell_type": "markdown",
   "id": "87f293e6-a2fd-42b4-846e-c17eb7d426d8",
   "metadata": {},
   "source": [
    "- PM2.5 PM10\n",
    "- NO, NO2\n",
    "- NH3 - Ammonia\n",
    "- CO\n",
    "- So2\n",
    "- O3\n",
    "- Benzene, Toluene, Xylene"
   ]
  },
  {
   "cell_type": "code",
   "execution_count": 1,
   "id": "544d2bbe-91d6-4628-8727-c27ece06df8d",
   "metadata": {},
   "outputs": [],
   "source": [
    "# pip install numpy pandas matplotlib seaborn scikit-learn"
   ]
  },
  {
   "cell_type": "code",
   "execution_count": 2,
   "id": "dc1973f7-97c3-462e-b51a-60dcc2b7c288",
   "metadata": {},
   "outputs": [],
   "source": [
    "# Importing necessary libraries\n",
    "import numpy as np\n",
    "import pandas as pd\n",
    "import matplotlib.pyplot as plt\n",
    "import seaborn as sns\n",
    "from warnings import filterwarnings\n",
    "filterwarnings('ignore')"
   ]
  },
  {
   "cell_type": "code",
   "execution_count": 3,
   "id": "fb9cfa4e-ec36-451d-a0c8-a46a803285f4",
   "metadata": {},
   "outputs": [
    {
     "ename": "FileNotFoundError",
     "evalue": "[Errno 2] No such file or directory: 'air quality data.csv'",
     "output_type": "error",
     "traceback": [
      "\u001b[1;31m---------------------------------------------------------------------------\u001b[0m",
      "\u001b[1;31mFileNotFoundError\u001b[0m                         Traceback (most recent call last)",
      "Cell \u001b[1;32mIn[3], line 1\u001b[0m\n\u001b[1;32m----> 1\u001b[0m df \u001b[38;5;241m=\u001b[39m \u001b[43mpd\u001b[49m\u001b[38;5;241;43m.\u001b[39;49m\u001b[43mread_csv\u001b[49m\u001b[43m(\u001b[49m\u001b[38;5;124;43m'\u001b[39;49m\u001b[38;5;124;43mair quality data.csv\u001b[39;49m\u001b[38;5;124;43m'\u001b[39;49m\u001b[43m)\u001b[49m\n\u001b[0;32m      2\u001b[0m df\u001b[38;5;241m.\u001b[39mhead() \u001b[38;5;66;03m# Top 5 rows!\u001b[39;00m\n",
      "File \u001b[1;32m~\\AppData\\Local\\Packages\\PythonSoftwareFoundation.Python.3.12_qbz5n2kfra8p0\\LocalCache\\local-packages\\Python312\\site-packages\\pandas\\io\\parsers\\readers.py:1026\u001b[0m, in \u001b[0;36mread_csv\u001b[1;34m(filepath_or_buffer, sep, delimiter, header, names, index_col, usecols, dtype, engine, converters, true_values, false_values, skipinitialspace, skiprows, skipfooter, nrows, na_values, keep_default_na, na_filter, verbose, skip_blank_lines, parse_dates, infer_datetime_format, keep_date_col, date_parser, date_format, dayfirst, cache_dates, iterator, chunksize, compression, thousands, decimal, lineterminator, quotechar, quoting, doublequote, escapechar, comment, encoding, encoding_errors, dialect, on_bad_lines, delim_whitespace, low_memory, memory_map, float_precision, storage_options, dtype_backend)\u001b[0m\n\u001b[0;32m   1013\u001b[0m kwds_defaults \u001b[38;5;241m=\u001b[39m _refine_defaults_read(\n\u001b[0;32m   1014\u001b[0m     dialect,\n\u001b[0;32m   1015\u001b[0m     delimiter,\n\u001b[1;32m   (...)\u001b[0m\n\u001b[0;32m   1022\u001b[0m     dtype_backend\u001b[38;5;241m=\u001b[39mdtype_backend,\n\u001b[0;32m   1023\u001b[0m )\n\u001b[0;32m   1024\u001b[0m kwds\u001b[38;5;241m.\u001b[39mupdate(kwds_defaults)\n\u001b[1;32m-> 1026\u001b[0m \u001b[38;5;28;01mreturn\u001b[39;00m \u001b[43m_read\u001b[49m\u001b[43m(\u001b[49m\u001b[43mfilepath_or_buffer\u001b[49m\u001b[43m,\u001b[49m\u001b[43m \u001b[49m\u001b[43mkwds\u001b[49m\u001b[43m)\u001b[49m\n",
      "File \u001b[1;32m~\\AppData\\Local\\Packages\\PythonSoftwareFoundation.Python.3.12_qbz5n2kfra8p0\\LocalCache\\local-packages\\Python312\\site-packages\\pandas\\io\\parsers\\readers.py:620\u001b[0m, in \u001b[0;36m_read\u001b[1;34m(filepath_or_buffer, kwds)\u001b[0m\n\u001b[0;32m    617\u001b[0m _validate_names(kwds\u001b[38;5;241m.\u001b[39mget(\u001b[38;5;124m\"\u001b[39m\u001b[38;5;124mnames\u001b[39m\u001b[38;5;124m\"\u001b[39m, \u001b[38;5;28;01mNone\u001b[39;00m))\n\u001b[0;32m    619\u001b[0m \u001b[38;5;66;03m# Create the parser.\u001b[39;00m\n\u001b[1;32m--> 620\u001b[0m parser \u001b[38;5;241m=\u001b[39m \u001b[43mTextFileReader\u001b[49m\u001b[43m(\u001b[49m\u001b[43mfilepath_or_buffer\u001b[49m\u001b[43m,\u001b[49m\u001b[43m \u001b[49m\u001b[38;5;241;43m*\u001b[39;49m\u001b[38;5;241;43m*\u001b[39;49m\u001b[43mkwds\u001b[49m\u001b[43m)\u001b[49m\n\u001b[0;32m    622\u001b[0m \u001b[38;5;28;01mif\u001b[39;00m chunksize \u001b[38;5;129;01mor\u001b[39;00m iterator:\n\u001b[0;32m    623\u001b[0m     \u001b[38;5;28;01mreturn\u001b[39;00m parser\n",
      "File \u001b[1;32m~\\AppData\\Local\\Packages\\PythonSoftwareFoundation.Python.3.12_qbz5n2kfra8p0\\LocalCache\\local-packages\\Python312\\site-packages\\pandas\\io\\parsers\\readers.py:1620\u001b[0m, in \u001b[0;36mTextFileReader.__init__\u001b[1;34m(self, f, engine, **kwds)\u001b[0m\n\u001b[0;32m   1617\u001b[0m     \u001b[38;5;28mself\u001b[39m\u001b[38;5;241m.\u001b[39moptions[\u001b[38;5;124m\"\u001b[39m\u001b[38;5;124mhas_index_names\u001b[39m\u001b[38;5;124m\"\u001b[39m] \u001b[38;5;241m=\u001b[39m kwds[\u001b[38;5;124m\"\u001b[39m\u001b[38;5;124mhas_index_names\u001b[39m\u001b[38;5;124m\"\u001b[39m]\n\u001b[0;32m   1619\u001b[0m \u001b[38;5;28mself\u001b[39m\u001b[38;5;241m.\u001b[39mhandles: IOHandles \u001b[38;5;241m|\u001b[39m \u001b[38;5;28;01mNone\u001b[39;00m \u001b[38;5;241m=\u001b[39m \u001b[38;5;28;01mNone\u001b[39;00m\n\u001b[1;32m-> 1620\u001b[0m \u001b[38;5;28mself\u001b[39m\u001b[38;5;241m.\u001b[39m_engine \u001b[38;5;241m=\u001b[39m \u001b[38;5;28;43mself\u001b[39;49m\u001b[38;5;241;43m.\u001b[39;49m\u001b[43m_make_engine\u001b[49m\u001b[43m(\u001b[49m\u001b[43mf\u001b[49m\u001b[43m,\u001b[49m\u001b[43m \u001b[49m\u001b[38;5;28;43mself\u001b[39;49m\u001b[38;5;241;43m.\u001b[39;49m\u001b[43mengine\u001b[49m\u001b[43m)\u001b[49m\n",
      "File \u001b[1;32m~\\AppData\\Local\\Packages\\PythonSoftwareFoundation.Python.3.12_qbz5n2kfra8p0\\LocalCache\\local-packages\\Python312\\site-packages\\pandas\\io\\parsers\\readers.py:1880\u001b[0m, in \u001b[0;36mTextFileReader._make_engine\u001b[1;34m(self, f, engine)\u001b[0m\n\u001b[0;32m   1878\u001b[0m     \u001b[38;5;28;01mif\u001b[39;00m \u001b[38;5;124m\"\u001b[39m\u001b[38;5;124mb\u001b[39m\u001b[38;5;124m\"\u001b[39m \u001b[38;5;129;01mnot\u001b[39;00m \u001b[38;5;129;01min\u001b[39;00m mode:\n\u001b[0;32m   1879\u001b[0m         mode \u001b[38;5;241m+\u001b[39m\u001b[38;5;241m=\u001b[39m \u001b[38;5;124m\"\u001b[39m\u001b[38;5;124mb\u001b[39m\u001b[38;5;124m\"\u001b[39m\n\u001b[1;32m-> 1880\u001b[0m \u001b[38;5;28mself\u001b[39m\u001b[38;5;241m.\u001b[39mhandles \u001b[38;5;241m=\u001b[39m \u001b[43mget_handle\u001b[49m\u001b[43m(\u001b[49m\n\u001b[0;32m   1881\u001b[0m \u001b[43m    \u001b[49m\u001b[43mf\u001b[49m\u001b[43m,\u001b[49m\n\u001b[0;32m   1882\u001b[0m \u001b[43m    \u001b[49m\u001b[43mmode\u001b[49m\u001b[43m,\u001b[49m\n\u001b[0;32m   1883\u001b[0m \u001b[43m    \u001b[49m\u001b[43mencoding\u001b[49m\u001b[38;5;241;43m=\u001b[39;49m\u001b[38;5;28;43mself\u001b[39;49m\u001b[38;5;241;43m.\u001b[39;49m\u001b[43moptions\u001b[49m\u001b[38;5;241;43m.\u001b[39;49m\u001b[43mget\u001b[49m\u001b[43m(\u001b[49m\u001b[38;5;124;43m\"\u001b[39;49m\u001b[38;5;124;43mencoding\u001b[39;49m\u001b[38;5;124;43m\"\u001b[39;49m\u001b[43m,\u001b[49m\u001b[43m \u001b[49m\u001b[38;5;28;43;01mNone\u001b[39;49;00m\u001b[43m)\u001b[49m\u001b[43m,\u001b[49m\n\u001b[0;32m   1884\u001b[0m \u001b[43m    \u001b[49m\u001b[43mcompression\u001b[49m\u001b[38;5;241;43m=\u001b[39;49m\u001b[38;5;28;43mself\u001b[39;49m\u001b[38;5;241;43m.\u001b[39;49m\u001b[43moptions\u001b[49m\u001b[38;5;241;43m.\u001b[39;49m\u001b[43mget\u001b[49m\u001b[43m(\u001b[49m\u001b[38;5;124;43m\"\u001b[39;49m\u001b[38;5;124;43mcompression\u001b[39;49m\u001b[38;5;124;43m\"\u001b[39;49m\u001b[43m,\u001b[49m\u001b[43m \u001b[49m\u001b[38;5;28;43;01mNone\u001b[39;49;00m\u001b[43m)\u001b[49m\u001b[43m,\u001b[49m\n\u001b[0;32m   1885\u001b[0m \u001b[43m    \u001b[49m\u001b[43mmemory_map\u001b[49m\u001b[38;5;241;43m=\u001b[39;49m\u001b[38;5;28;43mself\u001b[39;49m\u001b[38;5;241;43m.\u001b[39;49m\u001b[43moptions\u001b[49m\u001b[38;5;241;43m.\u001b[39;49m\u001b[43mget\u001b[49m\u001b[43m(\u001b[49m\u001b[38;5;124;43m\"\u001b[39;49m\u001b[38;5;124;43mmemory_map\u001b[39;49m\u001b[38;5;124;43m\"\u001b[39;49m\u001b[43m,\u001b[49m\u001b[43m \u001b[49m\u001b[38;5;28;43;01mFalse\u001b[39;49;00m\u001b[43m)\u001b[49m\u001b[43m,\u001b[49m\n\u001b[0;32m   1886\u001b[0m \u001b[43m    \u001b[49m\u001b[43mis_text\u001b[49m\u001b[38;5;241;43m=\u001b[39;49m\u001b[43mis_text\u001b[49m\u001b[43m,\u001b[49m\n\u001b[0;32m   1887\u001b[0m \u001b[43m    \u001b[49m\u001b[43merrors\u001b[49m\u001b[38;5;241;43m=\u001b[39;49m\u001b[38;5;28;43mself\u001b[39;49m\u001b[38;5;241;43m.\u001b[39;49m\u001b[43moptions\u001b[49m\u001b[38;5;241;43m.\u001b[39;49m\u001b[43mget\u001b[49m\u001b[43m(\u001b[49m\u001b[38;5;124;43m\"\u001b[39;49m\u001b[38;5;124;43mencoding_errors\u001b[39;49m\u001b[38;5;124;43m\"\u001b[39;49m\u001b[43m,\u001b[49m\u001b[43m \u001b[49m\u001b[38;5;124;43m\"\u001b[39;49m\u001b[38;5;124;43mstrict\u001b[39;49m\u001b[38;5;124;43m\"\u001b[39;49m\u001b[43m)\u001b[49m\u001b[43m,\u001b[49m\n\u001b[0;32m   1888\u001b[0m \u001b[43m    \u001b[49m\u001b[43mstorage_options\u001b[49m\u001b[38;5;241;43m=\u001b[39;49m\u001b[38;5;28;43mself\u001b[39;49m\u001b[38;5;241;43m.\u001b[39;49m\u001b[43moptions\u001b[49m\u001b[38;5;241;43m.\u001b[39;49m\u001b[43mget\u001b[49m\u001b[43m(\u001b[49m\u001b[38;5;124;43m\"\u001b[39;49m\u001b[38;5;124;43mstorage_options\u001b[39;49m\u001b[38;5;124;43m\"\u001b[39;49m\u001b[43m,\u001b[49m\u001b[43m \u001b[49m\u001b[38;5;28;43;01mNone\u001b[39;49;00m\u001b[43m)\u001b[49m\u001b[43m,\u001b[49m\n\u001b[0;32m   1889\u001b[0m \u001b[43m\u001b[49m\u001b[43m)\u001b[49m\n\u001b[0;32m   1890\u001b[0m \u001b[38;5;28;01massert\u001b[39;00m \u001b[38;5;28mself\u001b[39m\u001b[38;5;241m.\u001b[39mhandles \u001b[38;5;129;01mis\u001b[39;00m \u001b[38;5;129;01mnot\u001b[39;00m \u001b[38;5;28;01mNone\u001b[39;00m\n\u001b[0;32m   1891\u001b[0m f \u001b[38;5;241m=\u001b[39m \u001b[38;5;28mself\u001b[39m\u001b[38;5;241m.\u001b[39mhandles\u001b[38;5;241m.\u001b[39mhandle\n",
      "File \u001b[1;32m~\\AppData\\Local\\Packages\\PythonSoftwareFoundation.Python.3.12_qbz5n2kfra8p0\\LocalCache\\local-packages\\Python312\\site-packages\\pandas\\io\\common.py:873\u001b[0m, in \u001b[0;36mget_handle\u001b[1;34m(path_or_buf, mode, encoding, compression, memory_map, is_text, errors, storage_options)\u001b[0m\n\u001b[0;32m    868\u001b[0m \u001b[38;5;28;01melif\u001b[39;00m \u001b[38;5;28misinstance\u001b[39m(handle, \u001b[38;5;28mstr\u001b[39m):\n\u001b[0;32m    869\u001b[0m     \u001b[38;5;66;03m# Check whether the filename is to be opened in binary mode.\u001b[39;00m\n\u001b[0;32m    870\u001b[0m     \u001b[38;5;66;03m# Binary mode does not support 'encoding' and 'newline'.\u001b[39;00m\n\u001b[0;32m    871\u001b[0m     \u001b[38;5;28;01mif\u001b[39;00m ioargs\u001b[38;5;241m.\u001b[39mencoding \u001b[38;5;129;01mand\u001b[39;00m \u001b[38;5;124m\"\u001b[39m\u001b[38;5;124mb\u001b[39m\u001b[38;5;124m\"\u001b[39m \u001b[38;5;129;01mnot\u001b[39;00m \u001b[38;5;129;01min\u001b[39;00m ioargs\u001b[38;5;241m.\u001b[39mmode:\n\u001b[0;32m    872\u001b[0m         \u001b[38;5;66;03m# Encoding\u001b[39;00m\n\u001b[1;32m--> 873\u001b[0m         handle \u001b[38;5;241m=\u001b[39m \u001b[38;5;28;43mopen\u001b[39;49m\u001b[43m(\u001b[49m\n\u001b[0;32m    874\u001b[0m \u001b[43m            \u001b[49m\u001b[43mhandle\u001b[49m\u001b[43m,\u001b[49m\n\u001b[0;32m    875\u001b[0m \u001b[43m            \u001b[49m\u001b[43mioargs\u001b[49m\u001b[38;5;241;43m.\u001b[39;49m\u001b[43mmode\u001b[49m\u001b[43m,\u001b[49m\n\u001b[0;32m    876\u001b[0m \u001b[43m            \u001b[49m\u001b[43mencoding\u001b[49m\u001b[38;5;241;43m=\u001b[39;49m\u001b[43mioargs\u001b[49m\u001b[38;5;241;43m.\u001b[39;49m\u001b[43mencoding\u001b[49m\u001b[43m,\u001b[49m\n\u001b[0;32m    877\u001b[0m \u001b[43m            \u001b[49m\u001b[43merrors\u001b[49m\u001b[38;5;241;43m=\u001b[39;49m\u001b[43merrors\u001b[49m\u001b[43m,\u001b[49m\n\u001b[0;32m    878\u001b[0m \u001b[43m            \u001b[49m\u001b[43mnewline\u001b[49m\u001b[38;5;241;43m=\u001b[39;49m\u001b[38;5;124;43m\"\u001b[39;49m\u001b[38;5;124;43m\"\u001b[39;49m\u001b[43m,\u001b[49m\n\u001b[0;32m    879\u001b[0m \u001b[43m        \u001b[49m\u001b[43m)\u001b[49m\n\u001b[0;32m    880\u001b[0m     \u001b[38;5;28;01melse\u001b[39;00m:\n\u001b[0;32m    881\u001b[0m         \u001b[38;5;66;03m# Binary mode\u001b[39;00m\n\u001b[0;32m    882\u001b[0m         handle \u001b[38;5;241m=\u001b[39m \u001b[38;5;28mopen\u001b[39m(handle, ioargs\u001b[38;5;241m.\u001b[39mmode)\n",
      "\u001b[1;31mFileNotFoundError\u001b[0m: [Errno 2] No such file or directory: 'air quality data.csv'"
     ]
    }
   ],
   "source": [
    "df = pd.read_csv('air quality data.csv')\n",
    "df.head() # Top 5 rows!"
   ]
  },
  {
   "cell_type": "code",
   "execution_count": null,
   "id": "9f2b8610-fd1e-49c5-90ff-9b276a8321fd",
   "metadata": {},
   "outputs": [],
   "source": [
    "# Shape - rows and cols!\n",
    "df.shape"
   ]
  },
  {
   "cell_type": "code",
   "execution_count": null,
   "id": "75263571-b821-4f76-be80-53d62f56e8b9",
   "metadata": {},
   "outputs": [],
   "source": [
    "# Information\n",
    "df.info()"
   ]
  },
  {
   "cell_type": "code",
   "execution_count": null,
   "id": "addd43b5-161d-425e-841f-f33cb058cf5d",
   "metadata": {},
   "outputs": [],
   "source": [
    "# to know the duplicate values\n",
    "df.duplicated().sum()"
   ]
  },
  {
   "cell_type": "code",
   "execution_count": null,
   "id": "55de2572-83ef-45c5-b352-a63cc4912ec1",
   "metadata": {},
   "outputs": [],
   "source": [
    "# To check missing values\n",
    "df.isnull().sum()"
   ]
  },
  {
   "cell_type": "code",
   "execution_count": null,
   "id": "cfe35903-b3ea-45dc-8069-8fb83aa43f70",
   "metadata": {},
   "outputs": [],
   "source": [
    "# Drop the rows where 'AQI' has missing values\n",
    "df.dropna(subset=['AQI'], inplace = True)"
   ]
  },
  {
   "cell_type": "code",
   "execution_count": null,
   "id": "9540312d-b355-4c91-9a49-06cb81ae2cab",
   "metadata": {},
   "outputs": [],
   "source": [
    "df.isnull().sum().sort_values(ascending=False)"
   ]
  },
  {
   "cell_type": "code",
   "execution_count": null,
   "id": "a693f311-0dd8-4fe7-9b02-2287fa9a8bd3",
   "metadata": {},
   "outputs": [],
   "source": [
    "df.shape"
   ]
  },
  {
   "cell_type": "code",
   "execution_count": null,
   "id": "c0a0f583-847e-4606-967e-19a33d1ef73b",
   "metadata": {},
   "outputs": [],
   "source": [
    "# Summary of Statistics in the dataset\n",
    "df.describe().T"
   ]
  },
  {
   "cell_type": "code",
   "execution_count": null,
   "id": "766b2bfc-8ebc-4f02-ad2a-42f1851af4f4",
   "metadata": {},
   "outputs": [],
   "source": [
    "# Percentage of the null values\n",
    "null_values_percentage = (df.isnull().sum()/df.isnull().count()*100).sort_values(ascending=False)\n",
    "null_values_percentage"
   ]
  },
  {
   "cell_type": "markdown",
   "id": "53aaacb0-ddfc-4714-ab81-19a93849627a",
   "metadata": {},
   "source": [
    "#### Key Considerations:\n",
    "- Xylene has the highest percentage of missing values - 61.86%\n",
    "- PM10 and NH3 28 - 26 %"
   ]
  },
  {
   "cell_type": "markdown",
   "id": "a3edb42f-bb1b-4ecf-9cca-e2dae932b24a",
   "metadata": {},
   "source": [
    "## Week 2 - Visualization"
   ]
  },
  {
   "cell_type": "code",
   "execution_count": null,
   "id": "6466480c-921b-41d4-8f70-dfba6ec02878",
   "metadata": {},
   "outputs": [],
   "source": [
    "# Univariate analysis\n",
    "df['Xylene'].plot(kind = 'hist', figsize=(10,5))\n",
    "plt.legend()\n",
    "plt.show()"
   ]
  },
  {
   "cell_type": "code",
   "execution_count": null,
   "id": "9709cd66-c5c2-4012-bc10-b7b71164a9ff",
   "metadata": {},
   "outputs": [],
   "source": [
    "df['PM10'].plot(kind = 'hist', figsize=(10,5))\n",
    "plt.legend()\n",
    "plt.show()"
   ]
  },
  {
   "cell_type": "code",
   "execution_count": null,
   "id": "ee0923a2-9eea-4b05-92f1-1fd5b3f8e90d",
   "metadata": {},
   "outputs": [],
   "source": [
    "df['NH3'].plot(kind = 'hist', figsize=(10,5))\n",
    "plt.legend()\n",
    "plt.show()"
   ]
  },
  {
   "cell_type": "code",
   "execution_count": null,
   "id": "1da61820-93f3-425f-aeec-c852dde00a1b",
   "metadata": {},
   "outputs": [],
   "source": [
    "df['Toluene'].plot(kind = 'hist', figsize=(10,5))\n",
    "plt.legend()\n",
    "plt.show()"
   ]
  },
  {
   "cell_type": "code",
   "execution_count": null,
   "id": "e44a76d0-b628-411e-bf46-062d21c94a4d",
   "metadata": {},
   "outputs": [],
   "source": [
    "df['Benzene'].plot(kind = 'hist', figsize=(10,5))\n",
    "plt.legend()\n",
    "plt.show()"
   ]
  },
  {
   "cell_type": "code",
   "execution_count": null,
   "id": "841770a4-0bda-480c-9808-a018569a64dd",
   "metadata": {},
   "outputs": [],
   "source": [
    "df['NOx'].plot(kind = 'hist', figsize=(10,5))\n",
    "plt.legend()\n",
    "plt.show()"
   ]
  },
  {
   "cell_type": "code",
   "execution_count": null,
   "id": "d5ca280a-d0ff-4db1-a262-1f3ec09ccf48",
   "metadata": {},
   "outputs": [],
   "source": [
    "df['O3'].plot(kind = 'hist', figsize=(10,5))\n",
    "plt.legend()\n",
    "plt.show()"
   ]
  },
  {
   "cell_type": "code",
   "execution_count": null,
   "id": "826fa347-0f0f-4540-8d31-5d76e8b05ffb",
   "metadata": {},
   "outputs": [],
   "source": [
    "df['PM2.5'].plot(kind = 'hist', figsize=(10,5))\n",
    "plt.legend()\n",
    "plt.show()"
   ]
  },
  {
   "cell_type": "code",
   "execution_count": null,
   "id": "e81e8ed0-1466-492a-bc14-5826042a809f",
   "metadata": {},
   "outputs": [],
   "source": [
    "df['SO2'].plot(kind = 'hist', figsize=(10,5))\n",
    "plt.legend()\n",
    "plt.show()"
   ]
  },
  {
   "cell_type": "code",
   "execution_count": null,
   "id": "e3801d50-766e-4d14-ac25-ca543a1cb5e3",
   "metadata": {},
   "outputs": [],
   "source": [
    "df['CO'].plot(kind = 'hist', figsize=(10,5))\n",
    "plt.legend()\n",
    "plt.show()"
   ]
  },
  {
   "cell_type": "code",
   "execution_count": null,
   "id": "2359e64c-f65e-4cca-84d1-36292bf0dea8",
   "metadata": {},
   "outputs": [],
   "source": [
    "df['AQI'].plot(kind = 'hist', figsize=(10,5))\n",
    "plt.legend()\n",
    "plt.show()"
   ]
  },
  {
   "cell_type": "code",
   "execution_count": null,
   "id": "2cfb19eb-34ea-4cfa-b51e-d51c3a8d79b9",
   "metadata": {},
   "outputs": [],
   "source": [
    "# Distribution of AQi from 2015 to 2020\n",
    "sns.displot(df, x='AQI', color='purple')\n",
    "plt.show()"
   ]
  },
  {
   "cell_type": "code",
   "execution_count": null,
   "id": "6a948c55-5097-42f7-aefc-81f0ffdafce2",
   "metadata": {},
   "outputs": [],
   "source": [
    "# Bivariate\n",
    "sns.set_theme(style=\"darkgrid\")\n",
    "graph = sns.catplot(x=\"City\", kind='count', data=df, height=5, aspect=3)\n",
    "graph.set_xticklabels(rotation=90)"
   ]
  },
  {
   "cell_type": "code",
   "execution_count": null,
   "id": "c0e71d2f-35da-41be-aa7f-2be048456a14",
   "metadata": {},
   "outputs": [],
   "source": [
    "sns.set_theme(style=\"darkgrid\")\n",
    "graph = sns.catplot(x=\"City\", kind='count', data=df, col=\"AQI_Bucket\", col_wrap=2, \n",
    "                    height=3.5, aspect=3)\n",
    "graph.set_xticklabels(rotation=90)"
   ]
  },
  {
   "cell_type": "code",
   "execution_count": null,
   "id": "f55600b4-f797-45f1-8939-5906d64ff36d",
   "metadata": {},
   "outputs": [],
   "source": [
    "graph1 = sns.catplot(x='City', y='PM2.5', kind='box', data=df, height=5, aspect=3)\n",
    "graph1.set_xticklabels(rotation=90)"
   ]
  },
  {
   "cell_type": "code",
   "execution_count": null,
   "id": "8d2b4dea-f999-4cf2-8445-afb0d80799ba",
   "metadata": {},
   "outputs": [],
   "source": [
    "graph2 = sns.catplot(x='City', y='NO2', kind='box', data=df, height=5, aspect=3)\n",
    "graph2.set_xticklabels(rotation=90)"
   ]
  },
  {
   "cell_type": "code",
   "execution_count": null,
   "id": "f1e2806a-f931-4d1e-b742-5c971539f934",
   "metadata": {},
   "outputs": [],
   "source": [
    "graph3 = sns.catplot(x='City', y='O3', kind='box', data=df, height=5, aspect=3)\n",
    "graph3.set_xticklabels(rotation=90)"
   ]
  },
  {
   "cell_type": "code",
   "execution_count": null,
   "id": "fad0b512-d25e-42db-a13e-b2e13de667ee",
   "metadata": {},
   "outputs": [],
   "source": [
    "graph4 = sns.catplot(x='City', y='SO2', kind='box', data=df, height=5, aspect=3)\n",
    "graph4.set_xticklabels(rotation=90)"
   ]
  },
  {
   "cell_type": "code",
   "execution_count": null,
   "id": "ebbe15a3-c88c-4ab2-8d31-a30d6c5d7f75",
   "metadata": {},
   "outputs": [],
   "source": [
    "graph5 = sns.catplot(x='AQI_Bucket', data=df, kind='count', height=6, aspect=3)\n",
    "graph5.set_xticklabels(rotation=90)"
   ]
  },
  {
   "cell_type": "code",
   "execution_count": null,
   "id": "1e3b2fd7-fcb2-4971-bfe5-9d0fda80c554",
   "metadata": {},
   "outputs": [],
   "source": [
    "# TO check the null values\n",
    "df.isnull().sum().sort_values(ascending=False)"
   ]
  },
  {
   "cell_type": "code",
   "execution_count": null,
   "id": "a25cae60-70f4-47b3-bdf7-00448dc0423e",
   "metadata": {},
   "outputs": [],
   "source": [
    "df.describe().loc['mean']"
   ]
  },
  {
   "cell_type": "code",
   "execution_count": null,
   "id": "96dcaccc-c781-41f6-b968-39572b5ca31b",
   "metadata": {},
   "outputs": [],
   "source": [
    "df = df.replace({\n",
    "    \"PM2.5\":{np.nan:67.476613},\n",
    "    \"PM10\":{np.nan:118.454435},\n",
    "    \"NO\": {np.nan:17.622421},\n",
    "    \"NO2\": {np.nan:28.978391},\n",
    "    \"NOx\": {np.nan:32.289012},\n",
    "    \"NH3\": {np.nan:23.848366},\n",
    "    \"CO\":  {np.nan:2.345267},\n",
    "    \"SO2\": {np.nan:34.912885},\n",
    "    \"O3\": {np.nan:38.320547},\n",
    "    \"Benzene\": {np.nan:3.458668},\n",
    "    \"Toluene\": {np.nan:9.525714},\n",
    "    \"Xylene\": {np.nan:3.588683}\n",
    "})"
   ]
  },
  {
   "cell_type": "code",
   "execution_count": null,
   "id": "1ccd86fd-0a93-46e6-94e1-5c6287c685ae",
   "metadata": {},
   "outputs": [],
   "source": [
    "df.isnull().sum()"
   ]
  },
  {
   "cell_type": "code",
   "execution_count": null,
   "id": "b9bc8013-e634-4db5-8212-80ec42ed7736",
   "metadata": {},
   "outputs": [],
   "source": [
    "df = df.drop(['AQI_Bucket'], axis=1)"
   ]
  },
  {
   "cell_type": "code",
   "execution_count": null,
   "id": "d2a2ec32-ad8f-427a-89e1-b8e98e358e1a",
   "metadata": {},
   "outputs": [],
   "source": [
    "df.head()"
   ]
  },
  {
   "cell_type": "code",
   "execution_count": null,
   "id": "1fc89c5b-df43-4453-b792-3ec435eadb5d",
   "metadata": {},
   "outputs": [],
   "source": [
    "sns.boxplot(data=df[['PM2.5', 'PM10']])"
   ]
  },
  {
   "cell_type": "code",
   "execution_count": null,
   "id": "27b59414-5416-482f-80a6-a73abb2a7acd",
   "metadata": {},
   "outputs": [],
   "source": [
    "sns.boxplot(data=df[['NO', 'NO2', 'NOx', 'NH3']])"
   ]
  },
  {
   "cell_type": "code",
   "execution_count": null,
   "id": "775a6088-40c4-4fb9-b800-2d1789561118",
   "metadata": {},
   "outputs": [],
   "source": [
    "sns.boxplot(data=df[['O3', 'SO2']])"
   ]
  },
  {
   "cell_type": "code",
   "execution_count": null,
   "id": "3405d420-bdc9-43e8-9a83-fe4acce1ef05",
   "metadata": {},
   "outputs": [],
   "source": [
    "# IQR Method - Q3 Q1\n",
    "def replace_outliers(df):\n",
    "    for column in df.select_dtypes(include=['number']).columns:\n",
    "        Q1 = df[column].quantile(0.25)\n",
    "        Q3 = df[column].quantile(0.75)\n",
    "        IQR = Q3 - Q1\n",
    "        lb = Q1 - 1.5 * IQR\n",
    "        ub = Q3 + 1.5 * IQR\n",
    "        df[column] = df[column].apply(\n",
    "            lambda x: Q1 if x < lb else (Q3 if x > ub else x)\n",
    "        )\n",
    "    return df"
   ]
  },
  {
   "cell_type": "code",
   "execution_count": null,
   "id": "ce3c38a3-409a-4bd8-9198-489411eacc05",
   "metadata": {},
   "outputs": [],
   "source": [
    "df = replace_outliers(df)"
   ]
  },
  {
   "cell_type": "code",
   "execution_count": null,
   "id": "87e5ff19-2cb7-4304-b4dd-3bea7ef4d61c",
   "metadata": {},
   "outputs": [],
   "source": [
    "df.describe().T"
   ]
  },
  {
   "cell_type": "code",
   "execution_count": null,
   "id": "454fece8-d2d5-4496-8722-a938021233f8",
   "metadata": {},
   "outputs": [],
   "source": [
    "sns.boxplot(data=df[['PM2.5', 'PM10']])"
   ]
  },
  {
   "cell_type": "code",
   "execution_count": null,
   "id": "d0f64638-ee03-4ce1-8666-b2d69eb4972e",
   "metadata": {},
   "outputs": [],
   "source": [
    "sns.boxplot(data=df[['O3', 'SO2']])"
   ]
  },
  {
   "cell_type": "code",
   "execution_count": null,
   "id": "84461173-ec39-40a4-b94f-ec3daed0aa44",
   "metadata": {},
   "outputs": [],
   "source": [
    "sns.displot(df, x='AQI', color='red')\n",
    "plt.show()"
   ]
  },
  {
   "cell_type": "code",
   "execution_count": null,
   "id": "9d08e911-288a-4820-b6aa-972aa2e8134c",
   "metadata": {},
   "outputs": [],
   "source": [
    "df1 = df.drop(columns=['City'])"
   ]
  },
  {
   "cell_type": "code",
   "execution_count": null,
   "id": "c1396737-243d-4283-8ef1-9bbe4489db5f",
   "metadata": {},
   "outputs": [],
   "source": [
    "# Multivariate Analysis - Heatmap\n",
    "plt.figure(figsize=(12, 8))\n",
    "sns.heatmap(df1.corr(), annot=True, cmap='Pastel1')\n",
    "plt.show()"
   ]
  },
  {
   "cell_type": "markdown",
   "id": "cd900257-2095-405a-8d8c-cbfc2558173e",
   "metadata": {},
   "source": [
    "# Week 3 - Data Modeling - 10 March 2025"
   ]
  },
  {
   "cell_type": "code",
   "execution_count": null,
   "id": "2790fd89-5fc5-4306-8420-15261695a3aa",
   "metadata": {},
   "outputs": [],
   "source": [
    "df.drop(['Date', 'City'], axis = 1, inplace=True)\n",
    "df.head()"
   ]
  },
  {
   "cell_type": "code",
   "execution_count": null,
   "id": "2179436a-d342-4d0f-a540-3eca268e2581",
   "metadata": {},
   "outputs": [],
   "source": [
    "# Scaling - Standard Scaler\n",
    "from sklearn.preprocessing import StandardScaler\n",
    "df1 = StandardScaler().fit_transform(df)\n",
    "df1"
   ]
  },
  {
   "cell_type": "code",
   "execution_count": null,
   "id": "fe9060c7-48e0-4786-93bf-ff287e2b3c93",
   "metadata": {},
   "outputs": [],
   "source": [
    "df = pd.DataFrame(df1, columns=df.columns)\n",
    "df.head()"
   ]
  },
  {
   "cell_type": "code",
   "execution_count": null,
   "id": "5566c884-107f-4d58-b9bd-9d3bff003f43",
   "metadata": {},
   "outputs": [],
   "source": [
    "from sklearn.linear_model import LinearRegression\n",
    "from sklearn.tree import DecisionTreeRegressor\n",
    "from sklearn.ensemble import RandomForestRegressor\n",
    "from sklearn.neighbors import KNeighborsRegressor\n",
    "from sklearn.metrics import mean_squared_error, r2_score"
   ]
  },
  {
   "cell_type": "code",
   "execution_count": null,
   "id": "5ef4d39d-a2ab-496f-bbeb-212862d28a06",
   "metadata": {},
   "outputs": [],
   "source": [
    "df.columns"
   ]
  },
  {
   "cell_type": "code",
   "execution_count": null,
   "id": "e7228286-32cc-48c6-9466-7d9699eae05a",
   "metadata": {},
   "outputs": [],
   "source": [
    "# Feature & Target Selection\n",
    "X = df[['PM2.5', 'PM10', 'NO', 'NO2', 'NOx', 'NH3', 'CO', 'SO2', 'O3',\n",
    "       'Benzene', 'Toluene', 'Xylene']]\n",
    "y = df['AQI']"
   ]
  },
  {
   "cell_type": "code",
   "execution_count": null,
   "id": "03060b76-2fff-43a2-9b05-26c12186fab0",
   "metadata": {},
   "outputs": [],
   "source": [
    "X.head()"
   ]
  },
  {
   "cell_type": "code",
   "execution_count": null,
   "id": "69584299-3957-4d04-beba-df5fa06677c7",
   "metadata": {},
   "outputs": [],
   "source": [
    "# Split the data into training and testing data - Training set - 80% | Testing set - 20%\n",
    "from sklearn.model_selection import train_test_split\n",
    "X_train, X_test, y_train, y_test = train_test_split(X, y, test_size=0.2, random_state=42)\n",
    "print('Shape of X Train',X_train.shape)\n",
    "print('Shape of X Test',X_test.shape)\n",
    "print('Shape of y Train',y_train.shape)\n",
    "print('Shape of y Test',y_test.shape)"
   ]
  },
  {
   "cell_type": "code",
   "execution_count": null,
   "id": "3bdbbcec-d27b-41a2-ba05-2bb3452c6e41",
   "metadata": {},
   "outputs": [],
   "source": [
    "# Linear Regression Model\n",
    "LR = LinearRegression()\n",
    "LR.fit(X_train, y_train)"
   ]
  },
  {
   "cell_type": "code",
   "execution_count": null,
   "id": "b8f7db53-032c-4add-8248-f0dcfed1ea9b",
   "metadata": {},
   "outputs": [],
   "source": [
    "# Predicting the values:\n",
    "train_pred = LR.predict(X_train) # Predicting train\n",
    "test_pred = LR.predict(X_test) # Predicting test"
   ]
  },
  {
   "cell_type": "code",
   "execution_count": null,
   "id": "5d4498ea-193e-4e71-b3f2-33529150d3fb",
   "metadata": {},
   "outputs": [],
   "source": [
    "# Evaluation for Linear Regression\n",
    "RMSE_train = (np.sqrt(mean_squared_error(y_train, train_pred)))\n",
    "RMSE_test = (np.sqrt(mean_squared_error(y_test, test_pred)))\n",
    "print('RMSE Train Data = ', str(RMSE_train))\n",
    "print('RMSE Test Data = ', str(RMSE_test))\n",
    "print('_'* 60)\n",
    "print('R Squared value for Train = ', LR.score(X_train, y_train))\n",
    "print('R Squared value on Test = ', LR.score(X_test, y_test))"
   ]
  },
  {
   "cell_type": "code",
   "execution_count": null,
   "id": "7d9bf375-ecbc-425c-92b5-e07257f71122",
   "metadata": {},
   "outputs": [],
   "source": [
    "# KNN\n",
    "knn = KNeighborsRegressor()\n",
    "knn.fit(X_train, y_train)"
   ]
  },
  {
   "cell_type": "code",
   "execution_count": null,
   "id": "e4cc8a79-e414-4f33-829a-fd18fa005e1e",
   "metadata": {},
   "outputs": [],
   "source": [
    "# Predicting the values:\n",
    "train_pred = knn.predict(X_train) # Predicting train\n",
    "test_pred = knn.predict(X_test) # Predicting test\n",
    "\n",
    "# Evaluation for KNN\n",
    "RMSE_train = (np.sqrt(mean_squared_error(y_train, train_pred)))\n",
    "RMSE_test = (np.sqrt(mean_squared_error(y_test, test_pred)))\n",
    "print('RMSE Train Data = ', str(RMSE_train))\n",
    "print('RMSE Test Data = ', str(RMSE_test))\n",
    "print('_'* 60)\n",
    "print('R Squared value for Train = ', knn.score(X_train, y_train))\n",
    "print('R Squared value on Test = ', knn.score(X_test, y_test))"
   ]
  },
  {
   "cell_type": "code",
   "execution_count": null,
   "id": "f95cbb38-d6fd-42ad-87c8-58a1c520fe1e",
   "metadata": {},
   "outputs": [],
   "source": [
    "# Decision Tree\n",
    "dtr = DecisionTreeRegressor()\n",
    "dtr.fit(X_train, y_train)"
   ]
  },
  {
   "cell_type": "code",
   "execution_count": null,
   "id": "758f2880-9eff-48f6-b838-9a703139f653",
   "metadata": {},
   "outputs": [],
   "source": [
    "# Predicting the values:\n",
    "train_pred = dtr.predict(X_train) # Predicting train\n",
    "test_pred = dtr.predict(X_test) # Predicting test\n",
    "\n",
    "# Evaluation for Decision Tree Regressor\n",
    "RMSE_train = (np.sqrt(mean_squared_error(y_train, train_pred)))\n",
    "RMSE_test = (np.sqrt(mean_squared_error(y_test, test_pred)))\n",
    "print('RMSE Train Data = ', str(RMSE_train))\n",
    "print('RMSE Test Data = ', str(RMSE_test))\n",
    "print('_'* 60)\n",
    "print('R Squared value for Train = ', dtr.score(X_train, y_train))\n",
    "print('R Squared value on Test = ', dtr.score(X_test, y_test))"
   ]
  },
  {
   "cell_type": "code",
   "execution_count": null,
   "id": "86c3d45b-7e36-47bb-92d5-48ca0f80d217",
   "metadata": {},
   "outputs": [],
   "source": [
    "# Random Forest Regressor\n",
    "rfr = RandomForestRegressor()\n",
    "rfr.fit(X_train, y_train)"
   ]
  },
  {
   "cell_type": "code",
   "execution_count": null,
   "id": "121d0989-a988-4877-b94f-7c57c51c08ee",
   "metadata": {},
   "outputs": [],
   "source": [
    "# Predicting the values:\n",
    "train_pred = rfr.predict(X_train) # Predicting train\n",
    "test_pred = rfr.predict(X_test) # Predicting test\n",
    "\n",
    "# Evaluation for Randome Forest Regressor\n",
    "RMSE_train = (np.sqrt(mean_squared_error(y_train, train_pred)))\n",
    "RMSE_test = (np.sqrt(mean_squared_error(y_test, test_pred)))\n",
    "print('RMSE Train Data = ', str(RMSE_train))\n",
    "print('RMSE Test Data = ', str(RMSE_test))\n",
    "print('_'* 60)\n",
    "print('R Squared value for Train = ', rfr.score(X_train, y_train))\n",
    "print('R Squared value on Test = ', rfr.score(X_test, y_test))"
   ]
  }
 ],
 "metadata": {
  "kernelspec": {
   "display_name": "Python 3 (ipykernel)",
   "language": "python",
   "name": "python3"
  },
  "language_info": {
   "codemirror_mode": {
    "name": "ipython",
    "version": 3
   },
   "file_extension": ".py",
   "mimetype": "text/x-python",
   "name": "python",
   "nbconvert_exporter": "python",
   "pygments_lexer": "ipython3",
   "version": "3.12.9"
  }
 },
 "nbformat": 4,
 "nbformat_minor": 5
}
